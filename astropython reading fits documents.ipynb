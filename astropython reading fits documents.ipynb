{
 "cells": [
  {
   "cell_type": "code",
   "execution_count": 1,
   "metadata": {},
   "outputs": [],
   "source": [
    "import sys\n",
    "from astropy.io import fits as pyfits\n",
    "import numpy as np\n",
    "import matplotlib.pyplot as plt\n",
    "import astropy\n",
    "from astropy.io import fits\n",
    "fits_image_filename =  astropy.io.fits.open(r\"C:\\Users\\milto\\OneDrive\\Área de Trabalho\\test\\HARPS.2015-03-30T01_23_46.785_bis_G2_A.fits\" )\n",
    "hdul = fits_image_filename\n",
    "#hdul.info()\n",
    "hdr = hdul[0].header\n",
    "#hdr\n",
    "#list(hdr.keys())"
   ]
  },
  {
   "cell_type": "code",
   "execution_count": 2,
   "metadata": {},
   "outputs": [
    {
     "name": "stdout",
     "output_type": "stream",
     "text": [
      "34.7845426890666\n",
      "0.00179243744302682\n"
     ]
    }
   ],
   "source": [
    "print(hdr['HIERARCH ESO DRS CCF RVC'])\n",
    "print(hdr['HIERARCH ESO DRS CCF NOISE'])"
   ]
  },
  {
   "cell_type": "code",
   "execution_count": 11,
   "metadata": {},
   "outputs": [
    {
     "name": "stdout",
     "output_type": "stream",
     "text": [
      "C:\\Users\\milto\\OneDrive\\Documentos\\ADP.2014-09-23T11_02_54.353.fits\n",
      "C:\\Users\\milto\\OneDrive\\image_processing\\test.fits\n",
      "C:\\Users\\milto\\OneDrive\\image_processing\\pictures\\test.fits\n",
      "C:\\Users\\milto\\OneDrive\\Área de Trabalho\\test\\HARPS.2009-12-24T05_28_31.414_s1d_A.fits\n",
      "C:\\Users\\milto\\OneDrive\\Área de Trabalho\\test\\HARPS.2015-03-30T01_23_46.785_bis_G2_A.fits\n",
      "C:\\Users\\milto\\OneDrive\\Área de Trabalho\\test\\new\\ADP.2015-04-15T08_03_53.277.fits\n",
      "C:\\Users\\milto\\OneDrive\\Área de Trabalho\\test\\new\\ADP.2015-04-15T08_03_54.683.fits\n",
      "C:\\Users\\milto\\OneDrive\\Área de Trabalho\\test\\new\\ADP.2015-04-15T08_03_54.837.fits\n",
      "C:\\Users\\milto\\OneDrive\\Área de Trabalho\\test\\new\\data\\reduced\\2015-03-29\\HARPS.2015-03-30T01_23_46.785_bis_G2_A.fits\n",
      "C:\\Users\\milto\\OneDrive\\Área de Trabalho\\test\\new\\data\\reduced\\2015-03-29\\HARPS.2015-03-30T01_23_46.785_ccf_G2_A.fits\n",
      "C:\\Users\\milto\\OneDrive\\Área de Trabalho\\test\\new\\data\\reduced\\2015-03-29\\HARPS.2015-03-30T01_23_46.785_e2ds_A.fits\n",
      "C:\\Users\\milto\\OneDrive\\Área de Trabalho\\test\\new\\data\\reduced\\2015-03-29\\HARPS.2015-03-30T01_23_46.785_INT_GUIDE.fits\n",
      "C:\\Users\\milto\\OneDrive\\Área de Trabalho\\test\\new\\data\\reduced\\2015-03-29\\HARPS.2015-03-30T01_23_46.785_s1d_A.fits\n"
     ]
    }
   ],
   "source": [
    "import os\n",
    "\n",
    "def search_files(directory='.', extension=''):\n",
    "    extension = extension.lower()\n",
    "    for dirpath, dirnames, files in os.walk(directory):\n",
    "        for name in files:\n",
    "            if extension and name.lower().endswith(extension):\n",
    "                print(os.path.join(dirpath, name))\n",
    "            elif not extension:\n",
    "                print(os.path.join(dirpath, name))\n",
    "\n",
    "search_files(directory=r'C:\\Users\\milto\\OneDrive', extension='.txt')"
   ]
  },
  {
   "cell_type": "code",
   "execution_count": null,
   "metadata": {},
   "outputs": [],
   "source": []
  }
 ],
 "metadata": {
  "kernelspec": {
   "display_name": "Python 3",
   "language": "python",
   "name": "python3"
  },
  "language_info": {
   "codemirror_mode": {
    "name": "ipython",
    "version": 3
   },
   "file_extension": ".py",
   "mimetype": "text/x-python",
   "name": "python",
   "nbconvert_exporter": "python",
   "pygments_lexer": "ipython3",
   "version": "3.7.3"
  }
 },
 "nbformat": 4,
 "nbformat_minor": 2
}
